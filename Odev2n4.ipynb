{
  "nbformat": 4,
  "nbformat_minor": 0,
  "metadata": {
    "colab": {
      "name": "Odev2n4.ipynb",
      "provenance": []
    },
    "kernelspec": {
      "name": "python3",
      "display_name": "Python 3"
    }
  },
  "cells": [
    {
      "cell_type": "markdown",
      "metadata": {
        "id": "Va48rkawehoh",
        "colab_type": "text"
      },
      "source": [
        "İlk Başta bi deneme yaptım. Sonradan Silmedim . "
      ]
    },
    {
      "cell_type": "code",
      "metadata": {
        "id": "G2KhbZ_GYLPn",
        "colab_type": "code",
        "outputId": "524a6829-9271-46ad-b1a7-d253b328ee61",
        "colab": {
          "base_uri": "https://localhost:8080/",
          "height": 50
        }
      },
      "source": [
        "c = input('Bir Santigrat Derece Giriniz')\n",
        "f = (int(c)/(5/9))+32\n",
        "print(f)"
      ],
      "execution_count": 0,
      "outputs": [
        {
          "output_type": "stream",
          "text": [
            "Bir Santigrat Derece Giriniz100\n",
            "212.0\n"
          ],
          "name": "stdout"
        }
      ]
    },
    {
      "cell_type": "markdown",
      "metadata": {
        "id": "3yomWGskeqv3",
        "colab_type": "text"
      },
      "source": [
        "Çalışan Bi program ama kullanıcı yanlış girdiğinde başa atamıyorum. :S"
      ]
    },
    {
      "cell_type": "code",
      "metadata": {
        "id": "Eg4G5mooZa-B",
        "colab_type": "code",
        "outputId": "e92d7fd1-fbde-4016-d9cd-96275b6bb5f7",
        "colab": {
          "base_uri": "https://localhost:8080/",
          "height": 67
        }
      },
      "source": [
        "tempature = input('Bir Sıcaklık Birimi Giriniz ? Celcius için Sonu C Fahrenheit için sonu F   ')\n",
        "celcius = 'girilmedi'\n",
        "fahrenheit = 'girilmedi'\n",
        "if tempature[-1]=='C':\n",
        "  celcius=tempature.replace('C','')\n",
        "  fahrenheit = (int(celcius)/(5/9))+32\n",
        "elif tempature[-1]=='F':\n",
        "  fahrenheit=tempature.replace('F','')\n",
        "  celcius =(5/9) * (int(fahrenheit) - 32)\n",
        "else : input('Yanlış Girdiniz :S')\n",
        "print('C= '+ str(celcius))\n",
        "print('F= '+ str(fahrenheit))\n",
        "\n"
      ],
      "execution_count": 0,
      "outputs": [
        {
          "output_type": "stream",
          "text": [
            "Bir Sıcaklık Birimi Giriniz ? Celcius için Sonu C Fahrenheit için sonu F   140 C\n",
            "C= 140 \n",
            "F= 284.0\n"
          ],
          "name": "stdout"
        }
      ]
    },
    {
      "cell_type": "markdown",
      "metadata": {
        "id": "dYFJRWWScPQY",
        "colab_type": "text"
      },
      "source": [
        "2.Soru\n",
        " Tersine Çevirmece"
      ]
    },
    {
      "cell_type": "code",
      "metadata": {
        "id": "u6YL3XEvbgnJ",
        "colab_type": "code",
        "outputId": "bbe3c841-b4d9-4e08-ae70-e33cffce6f28",
        "colab": {
          "base_uri": "https://localhost:8080/",
          "height": 50
        }
      },
      "source": [
        "girdi= input('Bir Kelime Yaz Tersine Çevirelim   : ')\n",
        "for x in range(len(girdi)): \n",
        "  cikti=girdi[-x-1]\n",
        "  print(cikti,end='')"
      ],
      "execution_count": 0,
      "outputs": [
        {
          "output_type": "stream",
          "text": [
            "Bir Kelime Yaz Tersine Çevirelim   : Osman\n",
            "namsO"
          ],
          "name": "stdout"
        }
      ]
    },
    {
      "cell_type": "markdown",
      "metadata": {
        "id": "6_3AmjiQgz6K",
        "colab_type": "text"
      },
      "source": [
        "3.Soru ) 1'den 50'ye kadar olan Fibonacci sayılarından oluşan bir liste oluşturun. İlk iki Fibonacci sayısı 1'dir. Sonraki sayılar, önceki iki sayının toplamıdır. Çalışmıyo ama neden çalışmıyo çözemedim..."
      ]
    },
    {
      "cell_type": "code",
      "metadata": {
        "id": "yKhTfGdAfbI4",
        "colab_type": "code",
        "outputId": "3164aaae-8a90-43a3-effc-0da4d6503759",
        "colab": {
          "base_uri": "https://localhost:8080/",
          "height": 185
        }
      },
      "source": [
        "# fibonacci = 1 + 1 + 2 + 3 + 5 + 8 + 13 + ...\n",
        "toplam = []\n",
        "for x in range(10):\n",
        " fibArray = [1,1,2]   \n",
        " toplam = fibArray[len(fibArray)-1] + fibArray[len(fibArray)-2]\n",
        " fibArray=fibArray.append(toplam) \n",
        " print(toplam)"
      ],
      "execution_count": 14,
      "outputs": [
        {
          "output_type": "stream",
          "text": [
            "3\n",
            "3\n",
            "3\n",
            "3\n",
            "3\n",
            "3\n",
            "3\n",
            "3\n",
            "3\n",
            "3\n"
          ],
          "name": "stdout"
        }
      ]
    },
    {
      "cell_type": "markdown",
      "metadata": {
        "id": "dxWMOI3O0Zfz",
        "colab_type": "text"
      },
      "source": [
        "Girilen bir sayı için çarpım tablosunu yazdırın."
      ]
    },
    {
      "cell_type": "code",
      "metadata": {
        "id": "q2eezvlJh6i8",
        "colab_type": "code",
        "colab": {
          "base_uri": "https://localhost:8080/",
          "height": 202
        },
        "outputId": "be7de34a-951e-40e0-b5bd-258eb47d5584"
      },
      "source": [
        "girilen = input('Bir Sayı Girin  : ')\n",
        "for i in range(1,11):\n",
        " multiplier = int(girilen) * i\n",
        " print(multiplier)"
      ],
      "execution_count": 11,
      "outputs": [
        {
          "output_type": "stream",
          "text": [
            "Bir Sayı Girin  : 2\n",
            "2\n",
            "4\n",
            "6\n",
            "8\n",
            "10\n",
            "12\n",
            "14\n",
            "16\n",
            "18\n",
            "20\n"
          ],
          "name": "stdout"
        }
      ]
    },
    {
      "cell_type": "markdown",
      "metadata": {
        "id": "n5MlqS0fzBnl",
        "colab_type": "text"
      },
      "source": [
        "5)List comprehension kullanarak, 1'den 20'ye kadar tek sayıların karesini, çift sayıların küpünü içeren bir liste oluşturun."
      ]
    },
    {
      "cell_type": "code",
      "metadata": {
        "id": "IOejC2ihy92o",
        "colab_type": "code",
        "colab": {
          "base_uri": "https://localhost:8080/",
          "height": 34
        },
        "outputId": "39799012-401b-4703-e67d-80e19bca9a38"
      },
      "source": [
        "goal = [x**3 if x%2==0 else x**2 for x in range(1,21) ]\n",
        "print(goal)"
      ],
      "execution_count": 10,
      "outputs": [
        {
          "output_type": "stream",
          "text": [
            "[1, 8, 9, 64, 25, 216, 49, 512, 81, 1000, 121, 1728, 169, 2744, 225, 4096, 289, 5832, 361, 8000]\n"
          ],
          "name": "stdout"
        }
      ]
    },
    {
      "cell_type": "code",
      "metadata": {
        "id": "7aVjTj1x0LpH",
        "colab_type": "code",
        "colab": {}
      },
      "source": [
        ""
      ],
      "execution_count": 0,
      "outputs": []
    }
  ]
}